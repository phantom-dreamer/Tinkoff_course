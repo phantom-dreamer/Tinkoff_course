{
 "cells": [
  {
   "cell_type": "markdown",
   "id": "c1d6428f",
   "metadata": {},
   "source": [
    "# LTV | CAC metrics - ru\n",
    "\n",
    "В данных могут встречаться ошибки, поэтому чтобы получить правильные выводы стоит сразу проверить нет ли каких-то явных ошибок в данных, обычно их можно найти, отсортировав данные. Слишком маленькие значения всплывут, а слишком большие утонут и их будет видно на фоне всех остальных.\n",
    "\n",
    "Приступим к выполнению его главного задачи - подсчету эффективности каналов привлечения.\n",
    "В прикрепленном файле содержится статистика по клиентам, привлеченных по каждому из каналов - в формате таблицы.\n",
    "\n",
    "**Таблица содержит колонки:**\n",
    "- id клиента - номер клиента\n",
    "- Канал привлечения - канал из которого пришел клиент\n",
    "- LTV клиента, руб\n",
    "\n",
    "**При условии что общие издержки на каждый из каналов составили:**\n",
    "- Таргетная реклама - 100 000 руб\n",
    "- e-mail рассылки - 25 000 руб\n",
    "- Реклама у блогеров - 120 000 руб\n",
    "- Контекстная реклама - 90 000 руб\n",
    "- Нативная реклама - 70 000 руб\n",
    "- Реклама в новостных СМИ - 60 000 руб\n",
    "\n",
    "**Нужно определить:**\n",
    "- какие каналы окупаются\n",
    "- какой из них самый прибыльный с точки зрения прибыли на один юнит."
   ]
  },
  {
   "cell_type": "code",
   "execution_count": 1,
   "id": "eaa5a2ae",
   "metadata": {},
   "outputs": [],
   "source": [
    "import pandas as pd\n",
    "import seaborn as sns"
   ]
  },
  {
   "cell_type": "code",
   "execution_count": 2,
   "id": "f81b7fe5",
   "metadata": {},
   "outputs": [
    {
     "data": {
      "text/html": [
       "<div>\n",
       "<style scoped>\n",
       "    .dataframe tbody tr th:only-of-type {\n",
       "        vertical-align: middle;\n",
       "    }\n",
       "\n",
       "    .dataframe tbody tr th {\n",
       "        vertical-align: top;\n",
       "    }\n",
       "\n",
       "    .dataframe thead th {\n",
       "        text-align: right;\n",
       "    }\n",
       "</style>\n",
       "<table border=\"1\" class=\"dataframe\">\n",
       "  <thead>\n",
       "    <tr style=\"text-align: right;\">\n",
       "      <th></th>\n",
       "      <th>Канал привлечения</th>\n",
       "      <th>LTV, руб.</th>\n",
       "    </tr>\n",
       "  </thead>\n",
       "  <tbody>\n",
       "    <tr>\n",
       "      <th>0</th>\n",
       "      <td>Реклама у блогеров</td>\n",
       "      <td>90</td>\n",
       "    </tr>\n",
       "    <tr>\n",
       "      <th>1</th>\n",
       "      <td>Реклама в новостных СМИ</td>\n",
       "      <td>120</td>\n",
       "    </tr>\n",
       "    <tr>\n",
       "      <th>2</th>\n",
       "      <td>Реклама в новостных СМИ</td>\n",
       "      <td>240</td>\n",
       "    </tr>\n",
       "    <tr>\n",
       "      <th>3</th>\n",
       "      <td>Контекстная реклама</td>\n",
       "      <td>590</td>\n",
       "    </tr>\n",
       "    <tr>\n",
       "      <th>4</th>\n",
       "      <td>Контекстная реклама</td>\n",
       "      <td>670</td>\n",
       "    </tr>\n",
       "  </tbody>\n",
       "</table>\n",
       "</div>"
      ],
      "text/plain": [
       "         Канал привлечения  LTV, руб.\n",
       "0       Реклама у блогеров         90\n",
       "1  Реклама в новостных СМИ        120\n",
       "2  Реклама в новостных СМИ        240\n",
       "3      Контекстная реклама        590\n",
       "4      Контекстная реклама        670"
      ]
     },
     "execution_count": 2,
     "metadata": {},
     "output_type": "execute_result"
    }
   ],
   "source": [
    "df = pd.read_excel('LTV_metrics.xlsx')\n",
    "df.head()"
   ]
  },
  {
   "cell_type": "code",
   "execution_count": 3,
   "id": "a9ed80c2",
   "metadata": {},
   "outputs": [
    {
     "data": {
      "text/html": [
       "<div>\n",
       "<style scoped>\n",
       "    .dataframe tbody tr th:only-of-type {\n",
       "        vertical-align: middle;\n",
       "    }\n",
       "\n",
       "    .dataframe tbody tr th {\n",
       "        vertical-align: top;\n",
       "    }\n",
       "\n",
       "    .dataframe thead th {\n",
       "        text-align: right;\n",
       "    }\n",
       "</style>\n",
       "<table border=\"1\" class=\"dataframe\">\n",
       "  <thead>\n",
       "    <tr style=\"text-align: right;\">\n",
       "      <th></th>\n",
       "      <th>Channel</th>\n",
       "      <th>LTV</th>\n",
       "    </tr>\n",
       "  </thead>\n",
       "  <tbody>\n",
       "    <tr>\n",
       "      <th>0</th>\n",
       "      <td>Реклама у блогеров</td>\n",
       "      <td>90</td>\n",
       "    </tr>\n",
       "    <tr>\n",
       "      <th>1</th>\n",
       "      <td>Реклама в новостных СМИ</td>\n",
       "      <td>120</td>\n",
       "    </tr>\n",
       "    <tr>\n",
       "      <th>2</th>\n",
       "      <td>Реклама в новостных СМИ</td>\n",
       "      <td>240</td>\n",
       "    </tr>\n",
       "    <tr>\n",
       "      <th>3</th>\n",
       "      <td>Контекстная реклама</td>\n",
       "      <td>590</td>\n",
       "    </tr>\n",
       "    <tr>\n",
       "      <th>4</th>\n",
       "      <td>Контекстная реклама</td>\n",
       "      <td>670</td>\n",
       "    </tr>\n",
       "  </tbody>\n",
       "</table>\n",
       "</div>"
      ],
      "text/plain": [
       "                   Channel  LTV\n",
       "0       Реклама у блогеров   90\n",
       "1  Реклама в новостных СМИ  120\n",
       "2  Реклама в новостных СМИ  240\n",
       "3      Контекстная реклама  590\n",
       "4      Контекстная реклама  670"
      ]
     },
     "execution_count": 3,
     "metadata": {},
     "output_type": "execute_result"
    }
   ],
   "source": [
    "df = df.rename(columns=({'Канал привлечения': 'Channel', 'LTV, руб.': 'LTV'}))\n",
    "df.head()"
   ]
  },
  {
   "cell_type": "markdown",
   "id": "4b5f3005",
   "metadata": {},
   "source": [
    "**Сгруппируем данные по каналу рекламы и посчитаем суммарное LTV**"
   ]
  },
  {
   "cell_type": "code",
   "execution_count": 4,
   "id": "35b31afa",
   "metadata": {},
   "outputs": [
    {
     "data": {
      "text/html": [
       "<div>\n",
       "<style scoped>\n",
       "    .dataframe tbody tr th:only-of-type {\n",
       "        vertical-align: middle;\n",
       "    }\n",
       "\n",
       "    .dataframe tbody tr th {\n",
       "        vertical-align: top;\n",
       "    }\n",
       "\n",
       "    .dataframe thead th {\n",
       "        text-align: right;\n",
       "    }\n",
       "</style>\n",
       "<table border=\"1\" class=\"dataframe\">\n",
       "  <thead>\n",
       "    <tr style=\"text-align: right;\">\n",
       "      <th></th>\n",
       "      <th>Channel</th>\n",
       "      <th>LTV</th>\n",
       "    </tr>\n",
       "  </thead>\n",
       "  <tbody>\n",
       "    <tr>\n",
       "      <th>0</th>\n",
       "      <td>e-mail рассылки</td>\n",
       "      <td>23480</td>\n",
       "    </tr>\n",
       "    <tr>\n",
       "      <th>1</th>\n",
       "      <td>Таргетная реклама</td>\n",
       "      <td>48810</td>\n",
       "    </tr>\n",
       "    <tr>\n",
       "      <th>2</th>\n",
       "      <td>Реклама в новостных СМИ</td>\n",
       "      <td>70920</td>\n",
       "    </tr>\n",
       "    <tr>\n",
       "      <th>3</th>\n",
       "      <td>Контекстная реклама</td>\n",
       "      <td>97850</td>\n",
       "    </tr>\n",
       "    <tr>\n",
       "      <th>4</th>\n",
       "      <td>Нативная реклама</td>\n",
       "      <td>98370</td>\n",
       "    </tr>\n",
       "    <tr>\n",
       "      <th>5</th>\n",
       "      <td>Реклама у блогеров</td>\n",
       "      <td>150940</td>\n",
       "    </tr>\n",
       "  </tbody>\n",
       "</table>\n",
       "</div>"
      ],
      "text/plain": [
       "                   Channel     LTV\n",
       "0          e-mail рассылки   23480\n",
       "1        Таргетная реклама   48810\n",
       "2  Реклама в новостных СМИ   70920\n",
       "3      Контекстная реклама   97850\n",
       "4         Нативная реклама   98370\n",
       "5       Реклама у блогеров  150940"
      ]
     },
     "execution_count": 4,
     "metadata": {},
     "output_type": "execute_result"
    }
   ],
   "source": [
    "df_ltv = df[['Channel', 'LTV']].groupby(by=['Channel']).sum().sort_values(by='LTV').reset_index()\n",
    "df_ltv"
   ]
  },
  {
   "cell_type": "code",
   "execution_count": 5,
   "id": "b2c5c53c",
   "metadata": {},
   "outputs": [],
   "source": [
    "df_cac = pd.DataFrame({'Channel': \n",
    "                       ['e-mail рассылки', 'Контекстная реклама', 'Нативная реклама','Реклама в новостных СМИ','Реклама у блогеров', 'Таргетная реклама'],\n",
    "                       'LTV': [25000, 90000, 70000, 60000, 120000, 100000]}).sort_values(by='LTV').reset_index()\n"
   ]
  },
  {
   "cell_type": "code",
   "execution_count": 6,
   "id": "40ebdf44",
   "metadata": {},
   "outputs": [
    {
     "data": {
      "text/plain": [
       "<AxesSubplot:xlabel='LTV', ylabel='Channel'>"
      ]
     },
     "execution_count": 6,
     "metadata": {},
     "output_type": "execute_result"
    },
    {
     "data": {
      "image/png": "[encoded data removed]",
      "text/plain": [
       "<Figure size 640x480 with 1 Axes>"
      ]
     },
     "metadata": {},
     "output_type": "display_data"
    }
   ],
   "source": [
    "sns.barplot(data = df_ltv, x = 'LTV', y = 'Channel')"
   ]
  },
  {
   "cell_type": "code",
   "execution_count": 7,
   "id": "6e1a811f",
   "metadata": {},
   "outputs": [
    {
     "data": {
      "text/plain": [
       "<AxesSubplot:xlabel='LTV', ylabel='Channel'>"
      ]
     },
     "execution_count": 7,
     "metadata": {},
     "output_type": "execute_result"
    },
    {
     "data": {
      "image/png": "[encoded data removed]",
      "text/plain": [
       "<Figure size 640x480 with 1 Axes>"
      ]
     },
     "metadata": {},
     "output_type": "display_data"
    }
   ],
   "source": [
    "sns.barplot(data = df_cac, x = 'LTV', y = 'Channel')"
   ]
  },
  {
   "cell_type": "markdown",
   "id": "3d454844",
   "metadata": {},
   "source": [
    "**Оценим, какие из перечисленных каналов положительны для нас в плане прибыли**"
   ]
  },
  {
   "cell_type": "code",
   "execution_count": 8,
   "id": "59d0313f",
   "metadata": {},
   "outputs": [
    {
     "data": {
      "text/plain": [
       "0    -1520\n",
       "1   -11190\n",
       "2      920\n",
       "3     7850\n",
       "4    -1630\n",
       "5    30940\n",
       "Name: LTV, dtype: int64"
      ]
     },
     "execution_count": 8,
     "metadata": {},
     "output_type": "execute_result"
    }
   ],
   "source": [
    "df_ltv['LTV'] - df_cac['LTV']"
   ]
  },
  {
   "cell_type": "markdown",
   "id": "92b8c87b",
   "metadata": {},
   "source": [
    "**Видим, что наиболее выгодным каналом дохода является Нативная реклама, а в целом имеют положительный LTV только**\n",
    "- Реклама в новостных СМИ\n",
    "- Контекстная реклама\n",
    "- Нативная реклама"
   ]
  }
 ],
 "metadata": {
  "kernelspec": {
   "display_name": "Python 3 (ipykernel)",
   "language": "python",
   "name": "python3"
  },
  "language_info": {
   "codemirror_mode": {
    "name": "ipython",
    "version": 3
   },
   "file_extension": ".py",
   "mimetype": "text/x-python",
   "name": "python",
   "nbconvert_exporter": "python",
   "pygments_lexer": "ipython3",
   "version": "3.7.0"
  }
 },
 "nbformat": 4,
 "nbformat_minor": 5
}
